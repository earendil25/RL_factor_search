{
 "cells": [
  {
   "cell_type": "code",
   "execution_count": 1,
   "metadata": {},
   "outputs": [],
   "source": [
    "import pandas as pd\n",
    "import numpy as np\n",
    "import random\n",
    "from quantnote import BacktestEngine, Strategy"
   ]
  },
  {
   "cell_type": "code",
   "execution_count": 66,
   "metadata": {},
   "outputs": [
    {
     "data": {
      "text/html": [
       "<div>\n",
       "<style scoped>\n",
       "    .dataframe tbody tr th:only-of-type {\n",
       "        vertical-align: middle;\n",
       "    }\n",
       "\n",
       "    .dataframe tbody tr th {\n",
       "        vertical-align: top;\n",
       "    }\n",
       "\n",
       "    .dataframe thead th {\n",
       "        text-align: right;\n",
       "    }\n",
       "</style>\n",
       "<table border=\"1\" class=\"dataframe\">\n",
       "  <thead>\n",
       "    <tr style=\"text-align: right;\">\n",
       "      <th></th>\n",
       "      <th>sharpe</th>\n",
       "      <th>cagr</th>\n",
       "      <th>vol</th>\n",
       "      <th>input1</th>\n",
       "      <th>input2</th>\n",
       "      <th>unary</th>\n",
       "      <th>binary</th>\n",
       "      <th>unary_out</th>\n",
       "    </tr>\n",
       "  </thead>\n",
       "  <tbody>\n",
       "    <tr>\n",
       "      <th>0</th>\n",
       "      <td>1.069502</td>\n",
       "      <td>0.228492</td>\n",
       "      <td>0.213644</td>\n",
       "      <td>pb</td>\n",
       "      <td>fxusd</td>\n",
       "      <td>raw</td>\n",
       "      <td>add</td>\n",
       "      <td>raw</td>\n",
       "    </tr>\n",
       "    <tr>\n",
       "      <th>1</th>\n",
       "      <td>0.983807</td>\n",
       "      <td>0.200171</td>\n",
       "      <td>0.203466</td>\n",
       "      <td>debtnc</td>\n",
       "      <td>netincnci</td>\n",
       "      <td>rank</td>\n",
       "      <td>mul</td>\n",
       "      <td>zscore</td>\n",
       "    </tr>\n",
       "    <tr>\n",
       "      <th>5</th>\n",
       "      <td>0.916193</td>\n",
       "      <td>0.224250</td>\n",
       "      <td>0.244763</td>\n",
       "      <td>ncf</td>\n",
       "      <td>assetsc</td>\n",
       "      <td>zscore</td>\n",
       "      <td>mul</td>\n",
       "      <td>zscore</td>\n",
       "    </tr>\n",
       "    <tr>\n",
       "      <th>9</th>\n",
       "      <td>0.885879</td>\n",
       "      <td>0.192315</td>\n",
       "      <td>0.217089</td>\n",
       "      <td>de</td>\n",
       "      <td>evebit</td>\n",
       "      <td>zscore</td>\n",
       "      <td>sub</td>\n",
       "      <td>zscore</td>\n",
       "    </tr>\n",
       "    <tr>\n",
       "      <th>25</th>\n",
       "      <td>0.811159</td>\n",
       "      <td>0.191367</td>\n",
       "      <td>0.235918</td>\n",
       "      <td>evebit</td>\n",
       "      <td>tbvps</td>\n",
       "      <td>zscore</td>\n",
       "      <td>mul</td>\n",
       "      <td>raw</td>\n",
       "    </tr>\n",
       "  </tbody>\n",
       "</table>\n",
       "</div>"
      ],
      "text/plain": [
       "      sharpe      cagr       vol  input1     input2   unary binary unary_out\n",
       "0   1.069502  0.228492  0.213644      pb      fxusd     raw    add       raw\n",
       "1   0.983807  0.200171  0.203466  debtnc  netincnci    rank    mul    zscore\n",
       "5   0.916193  0.224250  0.244763     ncf    assetsc  zscore    mul    zscore\n",
       "9   0.885879  0.192315  0.217089      de     evebit  zscore    sub    zscore\n",
       "25  0.811159  0.191367  0.235918  evebit      tbvps  zscore    mul       raw"
      ]
     },
     "execution_count": 66,
     "metadata": {},
     "output_type": "execute_result"
    }
   ],
   "source": [
    "result_df = pd.read_parquet('result.parquet').sort_values('sharpe',ascending=False).reset_index(drop=True)\n",
    "result_df[result_df.cagr>0.188]"
   ]
  },
  {
   "cell_type": "code",
   "execution_count": 61,
   "metadata": {},
   "outputs": [
    {
     "data": {
      "text/plain": [
       "0.6333740102290499"
      ]
     },
     "execution_count": 61,
     "metadata": {},
     "output_type": "execute_result"
    }
   ],
   "source": [
    "result_df.sharpe.mean()"
   ]
  },
  {
   "cell_type": "code",
   "execution_count": 26,
   "metadata": {},
   "outputs": [
    {
     "name": "stdout",
     "output_type": "stream",
     "text": [
      "Loading DB...\n",
      "DB loaded in 46.23 seconds\n",
      "[initialize] is executed in 52.93 seconds\n"
     ]
    }
   ],
   "source": [
    "db_path = '/Users/j.nahmgoong/Documents/git/DB/MainDB.db'\n",
    "\n",
    "engine = BacktestEngine(db_path)"
   ]
  },
  {
   "cell_type": "code",
   "execution_count": 27,
   "metadata": {},
   "outputs": [
    {
     "name": "stdout",
     "output_type": "stream",
     "text": [
      "class myStrategy(Strategy):\n",
      "    def __init__(self):\n",
      "        super().__init__()\n",
      "\n",
      "    def compute_target(self, universe_list):\n",
      "        target_weight = { }\n",
      "        for ticker in universe_list:\n",
      "            target_weight[ticker] = 1\n",
      "        target_weight = self.normalize(target_weight)\n",
      "        return target_weight\n",
      "\n",
      "    def custom_factor(self, ticker, ftype):\n",
      "        if ftype == 'marketcap':\n",
      "            return self.get_value('metric',ticker,'marketcap')\n",
      "        else:\n",
      "            assert False\n",
      "\n"
     ]
    }
   ],
   "source": [
    "engine.show_sample_strategy()"
   ]
  },
  {
   "cell_type": "code",
   "execution_count": 28,
   "metadata": {},
   "outputs": [],
   "source": [
    "non_cap_norm = ['tbvps',\n",
    "'sps',\n",
    "'ros',\n",
    "'roe',\n",
    "'roa',\n",
    "'ps1',\n",
    "'ps',\n",
    "'price',\n",
    "'prefdivis',\n",
    "'pe1',\n",
    "'pe',\n",
    "'pb',\n",
    "'payoutratio',\n",
    "'fcfps',\n",
    "'epsdil',\n",
    "'eps',\n",
    "'dps',\n",
    "'divyield',\n",
    "'de',\n",
    "'currentratio',\n",
    "'bvps',\n",
    "'marketcap']"
   ]
  },
  {
   "cell_type": "code",
   "execution_count": 29,
   "metadata": {},
   "outputs": [],
   "source": [
    "class myStrategy(Strategy):\n",
    "    def __init__(self, config):\n",
    "        super().__init__()\n",
    "        self.config = config\n",
    "        \n",
    "        print(self.config)\n",
    "\n",
    "    def compute_target(self, universe_list):\n",
    "        target_weight = { }\n",
    "        \n",
    "        input1 = self.config['input1']\n",
    "        input2 = self.config['input2']\n",
    "        unary = self.config['unary']\n",
    "        binary = self.config['binary']\n",
    "        unary_out = self.config['unary_out']\n",
    "        \n",
    "        factor_series_1 = self.compute_factor_series(universe_list, input1, type=unary)\n",
    "        factor_series_2 = self.compute_factor_series(universe_list, input2, type=unary)\n",
    "        \n",
    "        if binary == 'add':\n",
    "            factor_series = factor_series_1 + factor_series_2\n",
    "        elif binary == 'sub':\n",
    "            factor_series = factor_series_1 - factor_series_2\n",
    "        elif binary == 'mul':\n",
    "            factor_series = factor_series_1 * factor_series_2\n",
    "        elif binary == 'div':\n",
    "            factor_series = factor_series_1 / factor_series_2\n",
    "        \n",
    "        factor_series = factor_series.dropna().sort_values(ascending=False)\n",
    "        assert len(factor_series) > 0.5*len(universe_list)\n",
    "        \n",
    "        if unary_out == 'raw':\n",
    "            pass\n",
    "        elif unary_out == 'rank':\n",
    "            factor_series = factor_series.rank(ascending=False)\n",
    "        elif unary_out == 'zscore':\n",
    "            factor_series = (factor_series-factor_series.mean())/factor_series.std()\n",
    "        \n",
    "        factor_series = factor_series.dropna().sort_values(ascending=False)\n",
    "        top = int(len(factor_series.index)/5)\n",
    "        \n",
    "        for ticker in factor_series.index:\n",
    "            weight = factor_series[ticker]\n",
    "            if weight > 0:\n",
    "                target_weight[ticker] = weight\n",
    "            \n",
    "        target_weight = self.normalize(target_weight)\n",
    "        return target_weight\n",
    "\n",
    "    def custom_factor(self, ticker, ftype):\n",
    "        if ftype == 'marketcap':\n",
    "            return self.get_value('metric',ticker,'marketcap')\n",
    "        else:\n",
    "            if ftype in non_cap_norm:\n",
    "                x = self.get_value('fundamentals',ticker,ftype)\n",
    "            else:\n",
    "                x = self.get_value('fundamentals',ticker,ftype)/self.get_value('fundamentals',ticker,'marketcap')\n",
    "            return x\n",
    "\n"
   ]
  },
  {
   "cell_type": "code",
   "execution_count": 56,
   "metadata": {},
   "outputs": [
    {
     "data": {
      "text/html": [
       "<div>\n",
       "<style scoped>\n",
       "    .dataframe tbody tr th:only-of-type {\n",
       "        vertical-align: middle;\n",
       "    }\n",
       "\n",
       "    .dataframe tbody tr th {\n",
       "        vertical-align: top;\n",
       "    }\n",
       "\n",
       "    .dataframe thead th {\n",
       "        text-align: right;\n",
       "    }\n",
       "</style>\n",
       "<table border=\"1\" class=\"dataframe\">\n",
       "  <thead>\n",
       "    <tr style=\"text-align: right;\">\n",
       "      <th></th>\n",
       "      <th>sharpe</th>\n",
       "      <th>cagr</th>\n",
       "      <th>vol</th>\n",
       "      <th>input1</th>\n",
       "      <th>input2</th>\n",
       "      <th>unary</th>\n",
       "      <th>binary</th>\n",
       "      <th>unary_out</th>\n",
       "    </tr>\n",
       "  </thead>\n",
       "  <tbody>\n",
       "    <tr>\n",
       "      <th>0</th>\n",
       "      <td>1.069502</td>\n",
       "      <td>0.228492</td>\n",
       "      <td>0.213644</td>\n",
       "      <td>pb</td>\n",
       "      <td>fxusd</td>\n",
       "      <td>raw</td>\n",
       "      <td>add</td>\n",
       "      <td>raw</td>\n",
       "    </tr>\n",
       "    <tr>\n",
       "      <th>1</th>\n",
       "      <td>0.983807</td>\n",
       "      <td>0.200171</td>\n",
       "      <td>0.203466</td>\n",
       "      <td>debtnc</td>\n",
       "      <td>netincnci</td>\n",
       "      <td>rank</td>\n",
       "      <td>mul</td>\n",
       "      <td>zscore</td>\n",
       "    </tr>\n",
       "    <tr>\n",
       "      <th>7</th>\n",
       "      <td>0.885879</td>\n",
       "      <td>0.192315</td>\n",
       "      <td>0.217089</td>\n",
       "      <td>de</td>\n",
       "      <td>evebit</td>\n",
       "      <td>zscore</td>\n",
       "      <td>sub</td>\n",
       "      <td>zscore</td>\n",
       "    </tr>\n",
       "    <tr>\n",
       "      <th>21</th>\n",
       "      <td>0.811159</td>\n",
       "      <td>0.191367</td>\n",
       "      <td>0.235918</td>\n",
       "      <td>evebit</td>\n",
       "      <td>tbvps</td>\n",
       "      <td>zscore</td>\n",
       "      <td>mul</td>\n",
       "      <td>raw</td>\n",
       "    </tr>\n",
       "    <tr>\n",
       "      <th>2</th>\n",
       "      <td>0.979247</td>\n",
       "      <td>0.184406</td>\n",
       "      <td>0.188314</td>\n",
       "      <td>investmentsnc</td>\n",
       "      <td>equity</td>\n",
       "      <td>rank</td>\n",
       "      <td>add</td>\n",
       "      <td>zscore</td>\n",
       "    </tr>\n",
       "    <tr>\n",
       "      <th>4</th>\n",
       "      <td>0.945514</td>\n",
       "      <td>0.181857</td>\n",
       "      <td>0.192336</td>\n",
       "      <td>assets</td>\n",
       "      <td>price</td>\n",
       "      <td>rank</td>\n",
       "      <td>sub</td>\n",
       "      <td>zscore</td>\n",
       "    </tr>\n",
       "    <tr>\n",
       "      <th>9</th>\n",
       "      <td>0.863566</td>\n",
       "      <td>0.177708</td>\n",
       "      <td>0.205784</td>\n",
       "      <td>sgna</td>\n",
       "      <td>payoutratio</td>\n",
       "      <td>rank</td>\n",
       "      <td>add</td>\n",
       "      <td>zscore</td>\n",
       "    </tr>\n",
       "    <tr>\n",
       "      <th>3</th>\n",
       "      <td>0.947315</td>\n",
       "      <td>0.176744</td>\n",
       "      <td>0.186574</td>\n",
       "      <td>debtusd</td>\n",
       "      <td>pe</td>\n",
       "      <td>rank</td>\n",
       "      <td>sub</td>\n",
       "      <td>raw</td>\n",
       "    </tr>\n",
       "    <tr>\n",
       "      <th>5</th>\n",
       "      <td>0.904737</td>\n",
       "      <td>0.175577</td>\n",
       "      <td>0.194065</td>\n",
       "      <td>ebitdausd</td>\n",
       "      <td>shareswa</td>\n",
       "      <td>rank</td>\n",
       "      <td>add</td>\n",
       "      <td>zscore</td>\n",
       "    </tr>\n",
       "    <tr>\n",
       "      <th>37</th>\n",
       "      <td>0.739949</td>\n",
       "      <td>0.172699</td>\n",
       "      <td>0.233393</td>\n",
       "      <td>eps</td>\n",
       "      <td>assetturnover</td>\n",
       "      <td>rank</td>\n",
       "      <td>div</td>\n",
       "      <td>zscore</td>\n",
       "    </tr>\n",
       "  </tbody>\n",
       "</table>\n",
       "</div>"
      ],
      "text/plain": [
       "      sharpe      cagr       vol         input1         input2   unary binary  \\\n",
       "0   1.069502  0.228492  0.213644             pb          fxusd     raw    add   \n",
       "1   0.983807  0.200171  0.203466         debtnc      netincnci    rank    mul   \n",
       "7   0.885879  0.192315  0.217089             de         evebit  zscore    sub   \n",
       "21  0.811159  0.191367  0.235918         evebit          tbvps  zscore    mul   \n",
       "2   0.979247  0.184406  0.188314  investmentsnc         equity    rank    add   \n",
       "4   0.945514  0.181857  0.192336         assets          price    rank    sub   \n",
       "9   0.863566  0.177708  0.205784           sgna    payoutratio    rank    add   \n",
       "3   0.947315  0.176744  0.186574        debtusd             pe    rank    sub   \n",
       "5   0.904737  0.175577  0.194065      ebitdausd       shareswa    rank    add   \n",
       "37  0.739949  0.172699  0.233393            eps  assetturnover    rank    div   \n",
       "\n",
       "   unary_out  \n",
       "0        raw  \n",
       "1     zscore  \n",
       "7     zscore  \n",
       "21       raw  \n",
       "2     zscore  \n",
       "4     zscore  \n",
       "9     zscore  \n",
       "3        raw  \n",
       "5     zscore  \n",
       "37    zscore  "
      ]
     },
     "execution_count": 56,
     "metadata": {},
     "output_type": "execute_result"
    }
   ],
   "source": [
    "result_df.sort_values('cagr',ascending=False).iloc[:10]"
   ]
  },
  {
   "cell_type": "code",
   "execution_count": 52,
   "metadata": {},
   "outputs": [
    {
     "name": "stdout",
     "output_type": "stream",
     "text": [
      "{'input1': 'investmentsnc', 'input2': 'equity', 'unary': 'rank', 'binary': 'add', 'unary_out': 'zscore'}\n",
      "Backtest period: 2016-01-04 00:00:00 -- 2021-08-31 00:00:00\n",
      "=== date:2021-08-31 00:00:00 / total_asset:2.841 / time elapsed:96.1 ===\n",
      "[run_backtest] is executed in 96.60 seconds\n"
     ]
    },
    {
     "name": "stderr",
     "output_type": "stream",
     "text": [
      "C:\\Users\\j.nahmgoong\\Anaconda3\\lib\\site-packages\\quantnote\\backtest_engine.py:350: UserWarning: Matplotlib is currently using module://ipykernel.pylab.backend_inline, which is a non-GUI backend, so cannot show the figure.\n",
      "  fig.show()\n"
     ]
    },
    {
     "data": {
      "image/png": "[encoded data removed]",
      "text/plain": [
       "<Figure size 864x360 with 2 Axes>"
      ]
     },
     "metadata": {
      "needs_background": "light"
     },
     "output_type": "display_data"
    }
   ],
   "source": [
    "config = {\n",
    "    'input1':'investmentsnc',\n",
    "    'input2':'equity',\n",
    "    'unary':'rank',\n",
    "    'binary':'add',\n",
    "    'unary_out':'zscore'}\n",
    "\n",
    "mys = myStrategy(config)\n",
    "engine.run_backtest(mys, '2016-01-01','2021-08-31',period='Q')\n",
    "engine.show_report()"
   ]
  },
  {
   "cell_type": "code",
   "execution_count": 53,
   "metadata": {},
   "outputs": [
    {
     "name": "stderr",
     "output_type": "stream",
     "text": [
      "C:\\Users\\j.nahmgoong\\Anaconda3\\lib\\site-packages\\quantnote\\backtest_engine.py:456: UserWarning: Matplotlib is currently using module://ipykernel.pylab.backend_inline, which is a non-GUI backend, so cannot show the figure.\n",
      "  fig.show()\n"
     ]
    },
    {
     "data": {
      "image/png": "[encoded data removed]",
      "text/plain": [
       "<Figure size 432x288 with 1 Axes>"
      ]
     },
     "metadata": {
      "needs_background": "light"
     },
     "output_type": "display_data"
    }
   ],
   "source": [
    "engine.show_sectorflow()"
   ]
  },
  {
   "cell_type": "code",
   "execution_count": null,
   "metadata": {},
   "outputs": [],
   "source": []
  },
  {
   "cell_type": "code",
   "execution_count": null,
   "metadata": {},
   "outputs": [],
   "source": []
  },
  {
   "cell_type": "code",
   "execution_count": null,
   "metadata": {},
   "outputs": [],
   "source": []
  },
  {
   "cell_type": "code",
   "execution_count": null,
   "metadata": {},
   "outputs": [],
   "source": []
  },
  {
   "cell_type": "code",
   "execution_count": null,
   "metadata": {},
   "outputs": [],
   "source": []
  }
 ],
 "metadata": {
  "kernelspec": {
   "display_name": "Python 3",
   "language": "python",
   "name": "python3"
  },
  "language_info": {
   "codemirror_mode": {
    "name": "ipython",
    "version": 3
   },
   "file_extension": ".py",
   "mimetype": "text/x-python",
   "name": "python",
   "nbconvert_exporter": "python",
   "pygments_lexer": "ipython3",
   "version": "3.8.5"
  }
 },
 "nbformat": 4,
 "nbformat_minor": 4
}
