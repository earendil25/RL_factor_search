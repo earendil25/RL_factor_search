{
 "cells": [
  {
   "cell_type": "code",
   "execution_count": 1,
   "metadata": {},
   "outputs": [],
   "source": [
    "import pandas as pd\n",
    "import numpy as np\n",
    "import random\n",
    "from quantnote import BacktestEngine, Strategy"
   ]
  },
  {
   "cell_type": "code",
   "execution_count": 2,
   "metadata": {},
   "outputs": [
    {
     "name": "stdout",
     "output_type": "stream",
     "text": [
      "Loading DB...\n",
      "DB loaded in 47.56 seconds\n",
      "[initialize] is executed in 53.64 seconds\n"
     ]
    }
   ],
   "source": [
    "db_path = '/Users/j.nahmgoong/Documents/git/DB/MainDB.db'\n",
    "\n",
    "engine = BacktestEngine(db_path)"
   ]
  },
  {
   "cell_type": "code",
   "execution_count": 3,
   "metadata": {},
   "outputs": [
    {
     "name": "stdout",
     "output_type": "stream",
     "text": [
      "class myStrategy(Strategy):\n",
      "    def __init__(self):\n",
      "        super().__init__()\n",
      "\n",
      "    def compute_target(self, universe_list):\n",
      "        target_weight = { }\n",
      "        for ticker in universe_list:\n",
      "            target_weight[ticker] = 1\n",
      "        target_weight = self.normalize(target_weight)\n",
      "        return target_weight\n",
      "\n",
      "    def custom_factor(self, ticker, ftype):\n",
      "        if ftype == 'marketcap':\n",
      "            return self.get_value('metric',ticker,'marketcap')\n",
      "        else:\n",
      "            assert False\n",
      "\n"
     ]
    }
   ],
   "source": [
    "engine.show_sample_strategy()"
   ]
  },
  {
   "cell_type": "code",
   "execution_count": 4,
   "metadata": {},
   "outputs": [],
   "source": [
    "non_cap_norm = ['tbvps',\n",
    "'sps',\n",
    "'ros',\n",
    "'roe',\n",
    "'roa',\n",
    "'ps1',\n",
    "'ps',\n",
    "'price',\n",
    "'prefdivis',\n",
    "'pe1',\n",
    "'pe',\n",
    "'pb',\n",
    "'payoutratio',\n",
    "'fcfps',\n",
    "'epsdil',\n",
    "'eps',\n",
    "'dps',\n",
    "'divyield',\n",
    "'de',\n",
    "'currentratio',\n",
    "'bvps',\n",
    "'marketcap']"
   ]
  },
  {
   "cell_type": "code",
   "execution_count": 5,
   "metadata": {},
   "outputs": [],
   "source": [
    "class myStrategy(Strategy):\n",
    "    def __init__(self, config):\n",
    "        super().__init__()\n",
    "        self.config = config\n",
    "        \n",
    "        print(self.config)\n",
    "\n",
    "    def compute_target(self, universe_list):\n",
    "        target_weight = { }\n",
    "        \n",
    "        input1 = self.config['input1']\n",
    "        input2 = self.config['input2']\n",
    "        unary = self.config['unary']\n",
    "        binary = self.config['binary']\n",
    "        unary_out = self.config['unary_out']\n",
    "        \n",
    "        factor_series_1 = self.compute_factor_series(universe_list, input1, type=unary)\n",
    "        factor_series_2 = self.compute_factor_series(universe_list, input2, type=unary)\n",
    "        \n",
    "        if binary == 'add':\n",
    "            factor_series = factor_series_1 + factor_series_2\n",
    "        elif binary == 'sub':\n",
    "            factor_series = factor_series_1 - factor_series_2\n",
    "        elif binary == 'mul':\n",
    "            factor_series = factor_series_1 * factor_series_2\n",
    "        elif binary == 'div':\n",
    "            factor_series = factor_series_1 / factor_series_2\n",
    "        \n",
    "        factor_series = factor_series.dropna().sort_values(ascending=False)\n",
    "        assert len(factor_series) > 0.5*len(universe_list)\n",
    "        \n",
    "        if unary_out == 'raw':\n",
    "            pass\n",
    "        elif unary_out == 'rank':\n",
    "            factor_series = factor_series.rank(ascending=False)\n",
    "        elif unary_out == 'zscore':\n",
    "            factor_series = (factor_series-factor_series.mean())/factor_series.std()\n",
    "        \n",
    "        factor_series = factor_series.dropna().sort_values(ascending=False)\n",
    "        top = int(len(factor_series.index)/5)\n",
    "        \n",
    "        for ticker in factor_series.index:\n",
    "            weight = factor_series[ticker]\n",
    "            if weight > 0:\n",
    "                target_weight[ticker] = weight\n",
    "            \n",
    "        target_weight = self.normalize(target_weight)\n",
    "        return target_weight\n",
    "\n",
    "    def custom_factor(self, ticker, ftype):\n",
    "        if ftype == 'marketcap':\n",
    "            return self.get_value('metric',ticker,'marketcap')\n",
    "        else:\n",
    "            if ftype in non_cap_norm:\n",
    "                x = self.get_value('fundamentals',ticker,ftype)\n",
    "            else:\n",
    "                x = self.get_value('fundamentals',ticker,ftype)/self.get_value('fundamentals',ticker,'marketcap')\n",
    "            return x\n",
    "\n"
   ]
  },
  {
   "cell_type": "code",
   "execution_count": 12,
   "metadata": {
    "scrolled": false
   },
   "outputs": [
    {
     "data": {
      "text/plain": [
       "105"
      ]
     },
     "execution_count": 12,
     "metadata": {},
     "output_type": "execute_result"
    }
   ],
   "source": [
    "input_list = list(engine.cache['fundamentals']['AAPL'].columns[5:])\n",
    "unary_list = ['raw', 'rank', 'zscore']\n",
    "binary_list = ['add', 'sub', 'mul', 'div']\n",
    "\n",
    "result_df = pd.DataFrame({\n",
    "    'sharpe':[],\n",
    "    'cagr':[],\n",
    "    'vol':[],\n",
    "    'input1':[],\n",
    "    'input2':[],\n",
    "    'unary':[],\n",
    "    'binary':[],\n",
    "    'unary_out':[],\n",
    "})\n",
    "\n",
    "len(input_list)"
   ]
  },
  {
   "cell_type": "code",
   "execution_count": 13,
   "metadata": {
    "scrolled": false
   },
   "outputs": [
    {
     "name": "stdout",
     "output_type": "stream",
     "text": [
      "\n",
      "\n",
      "Computing 1th factor\n",
      "{'input1': 'ncff', 'input2': 'cashnequsd', 'unary': 'rank', 'binary': 'div', 'unary_out': 'rank'}\n",
      "Backtest period: 2016-01-04 00:00:00 -- 2021-08-31 00:00:00\n",
      "=== date:2021-08-31 00:00:00 / total_asset:2.295 / time elapsed:133.9 ===\n",
      "[run_backtest] is executed in 134.61 seconds\n",
      "{'cagr': 0.1465260878376637, 'vol': 0.18234651646971028, 'sharpe': 0.8035584702930327}\n"
     ]
    },
    {
     "ename": "NameError",
     "evalue": "name 'results' is not defined",
     "output_type": "error",
     "traceback": [
      "\u001b[1;31m---------------------------------------------------------------------------\u001b[0m",
      "\u001b[1;31mNameError\u001b[0m                                 Traceback (most recent call last)",
      "\u001b[1;32m<ipython-input-13-e2c7aa00b5d8>\u001b[0m in \u001b[0;36m<module>\u001b[1;34m\u001b[0m\n\u001b[0;32m     42\u001b[0m         \u001b[0mprint\u001b[0m\u001b[1;33m(\u001b[0m\u001b[1;34m'Passed!'\u001b[0m\u001b[1;33m)\u001b[0m\u001b[1;33m\u001b[0m\u001b[1;33m\u001b[0m\u001b[0m\n\u001b[0;32m     43\u001b[0m \u001b[1;33m\u001b[0m\u001b[0m\n\u001b[1;32m---> 44\u001b[1;33m     \u001b[0mresults\u001b[0m \u001b[1;33m=\u001b[0m \u001b[0mresults\u001b[0m\u001b[1;33m.\u001b[0m\u001b[0msort_values\u001b[0m\u001b[1;33m(\u001b[0m\u001b[1;34m'sharpe'\u001b[0m\u001b[1;33m)\u001b[0m\u001b[1;33m\u001b[0m\u001b[1;33m\u001b[0m\u001b[0m\n\u001b[0m\u001b[0;32m     45\u001b[0m     \u001b[0mprint\u001b[0m\u001b[1;33m(\u001b[0m\u001b[1;34m'Current best sharpe'\u001b[0m\u001b[1;33m)\u001b[0m\u001b[1;33m\u001b[0m\u001b[1;33m\u001b[0m\u001b[0m\n\u001b[0;32m     46\u001b[0m     \u001b[0mprint\u001b[0m\u001b[1;33m(\u001b[0m\u001b[0mresults\u001b[0m\u001b[1;33m.\u001b[0m\u001b[0miloc\u001b[0m\u001b[1;33m[\u001b[0m\u001b[1;36m0\u001b[0m\u001b[1;33m]\u001b[0m\u001b[1;33m)\u001b[0m\u001b[1;33m\u001b[0m\u001b[1;33m\u001b[0m\u001b[0m\n",
      "\u001b[1;31mNameError\u001b[0m: name 'results' is not defined"
     ]
    }
   ],
   "source": [
    "idx = 1\n",
    "while True:\n",
    "    x1, x2 = random.sample(input_list,2)\n",
    "    unary = random.sample(unary_list,1)[0]\n",
    "    binary = random.sample(binary_list,1)[0]\n",
    "    unary_out = random.sample(unary_list,1)[0]\n",
    "    \n",
    "    config = {\n",
    "    'input1':x1,\n",
    "    'input2':x2,\n",
    "    'unary':unary,\n",
    "    'binary':binary,\n",
    "    'unary_out':unary_out}\n",
    "    \n",
    "    print('\\n')\n",
    "    print('Computing {}th factor'.format(idx))\n",
    "    mys = myStrategy(config)\n",
    "    try:\n",
    "        engine.run_backtest(mys, '2016-01-01','2021-08-31',period='Q')\n",
    "        engine.stat(bench=None)\n",
    "        print(engine.stat_dic)\n",
    "        \n",
    "        sharpe = engine.stat_dic['sharpe']\n",
    "        cagr = engine.stat_dic['cagr']\n",
    "        vol = engine.stat_dic['vol']\n",
    "        \n",
    "        result_df.append({\n",
    "            'sharpe':sharpe,\n",
    "            'cagr':cagr,\n",
    "            'vol':vol,\n",
    "            'input1':x2,\n",
    "            'input2':x2,\n",
    "            'unary':unary,\n",
    "            'binary':binary,\n",
    "            'unary_out':unary_out,\n",
    "        },ignore_index=True)\n",
    "        \n",
    "        result_df.to_parquet('result.parquet')\n",
    "\n",
    "        idx += 1\n",
    "    except:\n",
    "        print('Passed!')\n",
    "        \n",
    "    results = results.sort_values('sharpe')\n",
    "    print('Current best sharpe')\n",
    "    print(results.iloc[0])\n"
   ]
  },
  {
   "cell_type": "code",
   "execution_count": 1,
   "metadata": {},
   "outputs": [
    {
     "ename": "NameError",
     "evalue": "name 'results' is not defined",
     "output_type": "error",
     "traceback": [
      "\u001b[1;31m---------------------------------------------------------------------------\u001b[0m",
      "\u001b[1;31mNameError\u001b[0m                                 Traceback (most recent call last)",
      "\u001b[1;32m<ipython-input-1-100f62972f2f>\u001b[0m in \u001b[0;36m<module>\u001b[1;34m\u001b[0m\n\u001b[1;32m----> 1\u001b[1;33m \u001b[0mresults\u001b[0m\u001b[1;33m\u001b[0m\u001b[1;33m\u001b[0m\u001b[0m\n\u001b[0m",
      "\u001b[1;31mNameError\u001b[0m: name 'results' is not defined"
     ]
    }
   ],
   "source": [
    "results"
   ]
  },
  {
   "cell_type": "code",
   "execution_count": null,
   "metadata": {},
   "outputs": [],
   "source": []
  },
  {
   "cell_type": "code",
   "execution_count": null,
   "metadata": {},
   "outputs": [],
   "source": []
  }
 ],
 "metadata": {
  "kernelspec": {
   "display_name": "Python 3",
   "language": "python",
   "name": "python3"
  },
  "language_info": {
   "codemirror_mode": {
    "name": "ipython",
    "version": 3
   },
   "file_extension": ".py",
   "mimetype": "text/x-python",
   "name": "python",
   "nbconvert_exporter": "python",
   "pygments_lexer": "ipython3",
   "version": "3.8.5"
  }
 },
 "nbformat": 4,
 "nbformat_minor": 4
}
