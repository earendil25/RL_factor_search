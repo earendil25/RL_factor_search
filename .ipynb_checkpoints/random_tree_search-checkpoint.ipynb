{
 "cells": [
  {
   "cell_type": "code",
   "execution_count": 1,
   "metadata": {},
   "outputs": [],
   "source": [
    "import pandas as pd\n",
    "import numpy as np\n",
    "import random\n",
    "from quantnote import BacktestEngine, Strategy"
   ]
  },
  {
   "cell_type": "code",
   "execution_count": 2,
   "metadata": {},
   "outputs": [
    {
     "name": "stdout",
     "output_type": "stream",
     "text": [
      "Loading DB...\n",
      "DB loaded in 49.44 seconds\n",
      "[initialize] is executed in 58.74 seconds\n"
     ]
    }
   ],
   "source": [
    "db_path = '/Users/j.nahmgoong/Documents/git/DB/MainDB.db'\n",
    "\n",
    "engine = BacktestEngine(db_path)"
   ]
  },
  {
   "cell_type": "code",
   "execution_count": 3,
   "metadata": {},
   "outputs": [],
   "source": [
    "non_cap_norm = ['tbvps',\n",
    "'sps',\n",
    "'ros',\n",
    "'roe',\n",
    "'roa',\n",
    "'ps1',\n",
    "'ps',\n",
    "'price',\n",
    "'prefdivis',\n",
    "'pe1',\n",
    "'pe',\n",
    "'pb',\n",
    "'payoutratio',\n",
    "'fcfps',\n",
    "'epsdil',\n",
    "'eps',\n",
    "'dps',\n",
    "'divyield',\n",
    "'de',\n",
    "'currentratio',\n",
    "'bvps',\n",
    "'marketcap']"
   ]
  },
  {
   "cell_type": "code",
   "execution_count": 4,
   "metadata": {
    "scrolled": false
   },
   "outputs": [
    {
     "data": {
      "text/plain": [
       "105"
      ]
     },
     "execution_count": 4,
     "metadata": {},
     "output_type": "execute_result"
    }
   ],
   "source": [
    "input_list = list(engine.cache['fundamentals']['AAPL'].columns[5:])\n",
    "unary_list = ['zscore']\n",
    "binary_list = ['B:add', 'B:sub', 'B:mul', 'B:div']\n",
    "\n",
    "result_df = pd.DataFrame({\n",
    "    'sharpe':[],\n",
    "    'cagr':[],\n",
    "    'vol':[],\n",
    "    'tree':[],\n",
    "})\n",
    "\n",
    "len(input_list)"
   ]
  },
  {
   "cell_type": "code",
   "execution_count": 5,
   "metadata": {},
   "outputs": [
    {
     "name": "stdout",
     "output_type": "stream",
     "text": [
      "['assets']\n",
      "['B:add', 'roic', 'ebitdausd']\n",
      "['B:add', 'B:mul', 'invcapavg', 'liabilitiesnc', 'ncfcommon']\n",
      "['investmentsnc']\n",
      "['B:mul', 'prefdivis', 'cor']\n",
      "['B:div', 'B:div', 'gp', 'payoutratio', 'assetsc']\n",
      "['invcap']\n",
      "['B:div', 'ebitdamargin', 'netincdis']\n",
      "['B:div', 'B:add', 'depamor', 'netinc', 'cashneq']\n",
      "['prefdivis']\n",
      "['B:sub', 'shareswa', 'netinccmn']\n",
      "['B:div', 'B:add', 'ncf', 'ebitdamargin', 'sharefactor']\n",
      "['revenueusd']\n",
      "['B:mul', 'investmentsc', 'roa']\n",
      "['B:div', 'B:mul', 'debtnc', 'ncff', 'investmentsc']\n",
      "['taxliabilities']\n",
      "['B:div', 'fxusd', 'shareswadil']\n",
      "['B:div', 'B:mul', 'opex', 'evebit', 'cor']\n",
      "['pe1']\n",
      "['B:add', 'consolinc', 'investmentsc']\n",
      "['B:mul', 'B:mul', 'ncfi', 'debtnc', 'fcfps']\n",
      "['ncfx']\n",
      "['B:mul', 'debtc', 'gp']\n",
      "['B:mul', 'B:sub', 'roe', 'opex', 'netincdis']\n",
      "['epsusd']\n",
      "['B:mul', 'tangibles', 'prefdivis']\n",
      "['B:add', 'B:sub', 'price', 'rnd', 'taxliabilities']\n",
      "['liabilitiesc']\n",
      "['B:mul', 'cor', 'investmentsc']\n",
      "['B:mul', 'B:div', 'ncfx', 'cashnequsd', 'ros']\n"
     ]
    }
   ],
   "source": [
    "def create_tree(input_list, binary_list, max_depth):        \n",
    "    tree = []\n",
    "    score = 1\n",
    "    depth = 0\n",
    "    while True:\n",
    "        if score == 0:\n",
    "            return tree\n",
    "            \n",
    "        if depth < max_depth:\n",
    "            action = random.sample(binary_list, 1)[0]\n",
    "            depth += 1\n",
    "            score += 1\n",
    "        else:\n",
    "            action = random.sample(input_list, 1)[0]\n",
    "            score -= 1\n",
    "            \n",
    "        tree.append(action)\n",
    "    \n",
    "    \n",
    "for _ in range(10):\n",
    "    tree = create_tree(input_list, binary_list, 0)\n",
    "    print(tree)\n",
    "    tree = create_tree(input_list, binary_list, 1)\n",
    "    print(tree)\n",
    "    tree = create_tree(input_list, binary_list, 2)\n",
    "    print(tree)\n",
    "    "
   ]
  },
  {
   "cell_type": "code",
   "execution_count": 6,
   "metadata": {},
   "outputs": [],
   "source": [
    "class myStrategy(Strategy):\n",
    "    def __init__(self, tree):\n",
    "        super().__init__()\n",
    "        self.tree = tree\n",
    "        \n",
    "        print(self.tree)\n",
    "        \n",
    "    def compute_factor_from_tree(self, universe_list):\n",
    "        tree = self.tree.copy()\n",
    "        ops = []\n",
    "        inputs = []\n",
    "\n",
    "        while tree:\n",
    "            x = tree.pop()\n",
    "\n",
    "            if x[0]=='B': \n",
    "                ops.append(x)\n",
    "            else:\n",
    "                x = self.compute_factor_series(universe_list, x, type='rank')\n",
    "                inputs.append(x)\n",
    "\n",
    "            if len(inputs) >= 2 and len(ops) >= 1:\n",
    "                x1 = inputs.pop()\n",
    "                x2 = inputs.pop()\n",
    "                binary = ops.pop()\n",
    "\n",
    "                if binary == 'B:add': x = x1 + x2\n",
    "                elif binary == 'B:sub': x = x1 - x2\n",
    "                elif binary == 'B:mul': x = x1 * x2\n",
    "                elif binary == 'B:div': x = x1 / x2\n",
    "                    \n",
    "                inputs.append(x)\n",
    "                \n",
    "        assert len(ops) == 0 and len(inputs) == 1\n",
    "        x = inputs.pop()\n",
    "        return x\n",
    "\n",
    "    \n",
    "    def compute_target(self, universe_list):\n",
    "        target_weight = { }\n",
    "        \n",
    "        factor_series = self.compute_factor_from_tree(universe_list)\n",
    "        \n",
    "        factor_series = self.transform_series(factor_series, 'rank', universe_list)-0.5\n",
    "        \n",
    "        for ticker in factor_series.index:\n",
    "            weight = factor_series[ticker]\n",
    "            if weight > 0:\n",
    "                target_weight[ticker] = weight\n",
    "                \n",
    "        assert len(target_weight) >= 25\n",
    "        \n",
    "        target_weight = self.normalize(target_weight)\n",
    "        return target_weight\n",
    "\n",
    "    def custom_factor(self, ticker, ftype):\n",
    "        if ftype == 'marketcap':\n",
    "            return self.get_value('metric',ticker,'marketcap')\n",
    "        else:\n",
    "            if ftype in non_cap_norm:\n",
    "                x = self.get_value('fundamentals',ticker,ftype)\n",
    "            else:\n",
    "                x = self.get_value('fundamentals',ticker,ftype)/self.get_value('fundamentals',ticker,'marketcap')\n",
    "            return x\n",
    "        "
   ]
  },
  {
   "cell_type": "code",
   "execution_count": null,
   "metadata": {},
   "outputs": [
    {
     "name": "stdout",
     "output_type": "stream",
     "text": [
      "\n",
      "\n",
      "['B:add', 'payables', 'netincnci']\n",
      "Backtest period: 2010-01-04 00:00:00 -- 2021-08-31 00:00:00\n",
      "=== date:2021-08-31 00:00:00 / total_asset:4.978 / time elapsed:208.2 ===\n",
      "[run_backtest] is executed in 209.75 seconds\n",
      "{'cagr': 0.13731116585995695, 'vol': 0.18375227879968734, 'sharpe': 0.747262383666235}\n",
      "\n",
      "\n",
      "['B:sub', 'B:div', 'roe', 'sharefactor', 'roa']\n",
      "Backtest period: 2010-01-04 00:00:00 -- 2021-08-31 00:00:00\n",
      "=== date:2021-08-31 00:00:00 / total_asset:2.728 / time elapsed:141.5 ===\n",
      "[run_backtest] is executed in 142.65 seconds\n",
      "{'cagr': 0.08522747977520975, 'vol': 0.1819626001249567, 'sharpe': 0.4683791049187176}\n",
      "\n",
      "\n",
      "['B:add', 'ncf', 'assetsnc']\n",
      "Backtest period: 2010-01-04 00:00:00 -- 2021-08-31 00:00:00\n",
      "=== date:2021-08-31 00:00:00 / total_asset:5.602 / time elapsed:191.9 ===\n",
      "[run_backtest] is executed in 193.33 seconds\n",
      "{'cagr': 0.14788081611726187, 'vol': 0.1800561161511609, 'sharpe': 0.8213040427524984}\n",
      "\n",
      "\n",
      "['depamor']\n",
      "Backtest period: 2010-01-04 00:00:00 -- 2021-08-31 00:00:00\n",
      "=== date:2021-08-31 00:00:00 / total_asset:4.634 / time elapsed:201.3 ===\n",
      "[run_backtest] is executed in 202.71 seconds\n",
      "{'cagr': 0.13147469799542363, 'vol': 0.1824591025550215, 'sharpe': 0.7205707808180014}\n",
      "\n",
      "\n",
      "['B:add', 'B:mul', 'ps', 'ebt', 'roe']\n",
      "Backtest period: 2010-01-04 00:00:00 -- 2021-08-31 00:00:00\n",
      "passed!e:2013-05-17 00:00:00 / total_asset:1.491 / time elapsed:60.4 ===\n",
      "\n",
      "\n",
      "['B:add', 'equity', 'ev']\n"
     ]
    }
   ],
   "source": [
    "while True:\n",
    "    try:\n",
    "        print('\\n')\n",
    "        depth = random.sample([0,1,2],1)[0]\n",
    "        tree = create_tree(input_list, binary_list, depth)\n",
    "        mys = myStrategy(tree)\n",
    "        engine.run_backtest(mys, '2010-01-01','2021-08-31',period='Q')\n",
    "        engine.stat(bench=None)\n",
    "\n",
    "        print(engine.stat_dic)\n",
    "\n",
    "        sharpe = engine.stat_dic['sharpe']\n",
    "        cagr = engine.stat_dic['cagr']\n",
    "        vol = engine.stat_dic['vol']\n",
    "        \n",
    "        result_df = result_df.append({\n",
    "            'sharpe':sharpe,\n",
    "            'cagr':cagr,\n",
    "            'vol':vol,\n",
    "            'tree':tree\n",
    "        },ignore_index=True)\n",
    "        \n",
    "        result_df.to_parquet('result_tree.parquet')\n",
    "    except:\n",
    "        print('passed!')\n",
    "        pass"
   ]
  },
  {
   "cell_type": "code",
   "execution_count": null,
   "metadata": {},
   "outputs": [],
   "source": []
  },
  {
   "cell_type": "code",
   "execution_count": null,
   "metadata": {},
   "outputs": [],
   "source": []
  },
  {
   "cell_type": "code",
   "execution_count": null,
   "metadata": {},
   "outputs": [],
   "source": []
  },
  {
   "cell_type": "code",
   "execution_count": null,
   "metadata": {},
   "outputs": [],
   "source": []
  },
  {
   "cell_type": "code",
   "execution_count": null,
   "metadata": {},
   "outputs": [],
   "source": []
  },
  {
   "cell_type": "code",
   "execution_count": null,
   "metadata": {},
   "outputs": [],
   "source": []
  },
  {
   "cell_type": "code",
   "execution_count": null,
   "metadata": {},
   "outputs": [],
   "source": []
  }
 ],
 "metadata": {
  "kernelspec": {
   "display_name": "Python 3",
   "language": "python",
   "name": "python3"
  },
  "language_info": {
   "codemirror_mode": {
    "name": "ipython",
    "version": 3
   },
   "file_extension": ".py",
   "mimetype": "text/x-python",
   "name": "python",
   "nbconvert_exporter": "python",
   "pygments_lexer": "ipython3",
   "version": "3.8.5"
  }
 },
 "nbformat": 4,
 "nbformat_minor": 4
}
