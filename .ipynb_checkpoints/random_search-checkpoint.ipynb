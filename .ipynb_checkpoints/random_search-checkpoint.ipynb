{
 "cells": [
  {
   "cell_type": "code",
   "execution_count": 13,
   "metadata": {},
   "outputs": [],
   "source": [
    "import pandas as pd\n",
    "import numpy as np\n",
    "import random\n",
    "from quantnote import BacktestEngine, Strategy"
   ]
  },
  {
   "cell_type": "code",
   "execution_count": 2,
   "metadata": {},
   "outputs": [
    {
     "name": "stdout",
     "output_type": "stream",
     "text": [
      "Loading DB...\n",
      "DB loaded in 44.48 seconds\n",
      "[initialize] is executed in 50.66 seconds\n"
     ]
    }
   ],
   "source": [
    "db_path = '/Users/j.nahmgoong/Documents/git/DB/MainDB.db'\n",
    "\n",
    "engine = BacktestEngine(db_path)"
   ]
  },
  {
   "cell_type": "code",
   "execution_count": 3,
   "metadata": {},
   "outputs": [
    {
     "data": {
      "text/html": [
       "<div>\n",
       "<style scoped>\n",
       "    .dataframe tbody tr th:only-of-type {\n",
       "        vertical-align: middle;\n",
       "    }\n",
       "\n",
       "    .dataframe tbody tr th {\n",
       "        vertical-align: top;\n",
       "    }\n",
       "\n",
       "    .dataframe thead th {\n",
       "        text-align: right;\n",
       "    }\n",
       "</style>\n",
       "<table border=\"1\" class=\"dataframe\">\n",
       "  <thead>\n",
       "    <tr style=\"text-align: right;\">\n",
       "      <th></th>\n",
       "      <th>ticker</th>\n",
       "      <th>assets</th>\n",
       "      <th>gp</th>\n",
       "      <th>rnd</th>\n",
       "    </tr>\n",
       "    <tr>\n",
       "      <th>datekey</th>\n",
       "      <th></th>\n",
       "      <th></th>\n",
       "      <th></th>\n",
       "      <th></th>\n",
       "    </tr>\n",
       "  </thead>\n",
       "  <tbody>\n",
       "    <tr>\n",
       "      <th>1997-12-05</th>\n",
       "      <td>AAPL</td>\n",
       "      <td>4.233000e+09</td>\n",
       "      <td>1.368000e+09</td>\n",
       "      <td>4.850000e+08</td>\n",
       "    </tr>\n",
       "    <tr>\n",
       "      <th>1998-02-09</th>\n",
       "      <td>AAPL</td>\n",
       "      <td>4.126000e+09</td>\n",
       "      <td>NaN</td>\n",
       "      <td>NaN</td>\n",
       "    </tr>\n",
       "    <tr>\n",
       "      <th>1998-05-11</th>\n",
       "      <td>AAPL</td>\n",
       "      <td>3.963000e+09</td>\n",
       "      <td>NaN</td>\n",
       "      <td>NaN</td>\n",
       "    </tr>\n",
       "    <tr>\n",
       "      <th>1998-08-10</th>\n",
       "      <td>AAPL</td>\n",
       "      <td>4.041000e+09</td>\n",
       "      <td>NaN</td>\n",
       "      <td>NaN</td>\n",
       "    </tr>\n",
       "    <tr>\n",
       "      <th>1998-12-23</th>\n",
       "      <td>AAPL</td>\n",
       "      <td>4.289000e+09</td>\n",
       "      <td>1.479000e+09</td>\n",
       "      <td>3.030000e+08</td>\n",
       "    </tr>\n",
       "    <tr>\n",
       "      <th>...</th>\n",
       "      <td>...</td>\n",
       "      <td>...</td>\n",
       "      <td>...</td>\n",
       "      <td>...</td>\n",
       "    </tr>\n",
       "    <tr>\n",
       "      <th>2020-07-31</th>\n",
       "      <td>AAPL</td>\n",
       "      <td>3.173440e+11</td>\n",
       "      <td>1.045800e+11</td>\n",
       "      <td>1.788400e+10</td>\n",
       "    </tr>\n",
       "    <tr>\n",
       "      <th>2020-10-30</th>\n",
       "      <td>AAPL</td>\n",
       "      <td>3.238880e+11</td>\n",
       "      <td>1.049560e+11</td>\n",
       "      <td>1.875200e+10</td>\n",
       "    </tr>\n",
       "    <tr>\n",
       "      <th>2021-01-28</th>\n",
       "      <td>AAPL</td>\n",
       "      <td>3.540540e+11</td>\n",
       "      <td>1.140670e+11</td>\n",
       "      <td>1.946400e+10</td>\n",
       "    </tr>\n",
       "    <tr>\n",
       "      <th>2021-04-29</th>\n",
       "      <td>AAPL</td>\n",
       "      <td>3.371580e+11</td>\n",
       "      <td>1.297760e+11</td>\n",
       "      <td>2.016100e+10</td>\n",
       "    </tr>\n",
       "    <tr>\n",
       "      <th>2021-07-28</th>\n",
       "      <td>AAPL</td>\n",
       "      <td>3.298400e+11</td>\n",
       "      <td>1.423510e+11</td>\n",
       "      <td>2.112000e+10</td>\n",
       "    </tr>\n",
       "  </tbody>\n",
       "</table>\n",
       "<p>95 rows × 4 columns</p>\n",
       "</div>"
      ],
      "text/plain": [
       "           ticker        assets            gp           rnd\n",
       "datekey                                                    \n",
       "1997-12-05   AAPL  4.233000e+09  1.368000e+09  4.850000e+08\n",
       "1998-02-09   AAPL  4.126000e+09           NaN           NaN\n",
       "1998-05-11   AAPL  3.963000e+09           NaN           NaN\n",
       "1998-08-10   AAPL  4.041000e+09           NaN           NaN\n",
       "1998-12-23   AAPL  4.289000e+09  1.479000e+09  3.030000e+08\n",
       "...           ...           ...           ...           ...\n",
       "2020-07-31   AAPL  3.173440e+11  1.045800e+11  1.788400e+10\n",
       "2020-10-30   AAPL  3.238880e+11  1.049560e+11  1.875200e+10\n",
       "2021-01-28   AAPL  3.540540e+11  1.140670e+11  1.946400e+10\n",
       "2021-04-29   AAPL  3.371580e+11  1.297760e+11  2.016100e+10\n",
       "2021-07-28   AAPL  3.298400e+11  1.423510e+11  2.112000e+10\n",
       "\n",
       "[95 rows x 4 columns]"
      ]
     },
     "execution_count": 3,
     "metadata": {},
     "output_type": "execute_result"
    }
   ],
   "source": [
    "engine.cache['fundamentals']['AAPL'][['ticker','assets','gp','rnd']]"
   ]
  },
  {
   "cell_type": "code",
   "execution_count": 4,
   "metadata": {},
   "outputs": [
    {
     "name": "stdout",
     "output_type": "stream",
     "text": [
      "class myStrategy(Strategy):\n",
      "    def __init__(self):\n",
      "        super().__init__()\n",
      "\n",
      "    def compute_target(self, universe_list):\n",
      "        target_weight = { }\n",
      "        for ticker in universe_list:\n",
      "            target_weight[ticker] = 1\n",
      "        target_weight = self.normalize(target_weight)\n",
      "        return target_weight\n",
      "\n",
      "    def custom_factor(self, ticker, ftype):\n",
      "        if ftype == 'marketcap':\n",
      "            return self.get_value('metric',ticker,'marketcap')\n",
      "        else:\n",
      "            assert False\n",
      "\n"
     ]
    }
   ],
   "source": [
    "engine.show_sample_strategy()"
   ]
  },
  {
   "cell_type": "code",
   "execution_count": 5,
   "metadata": {},
   "outputs": [],
   "source": [
    "class myStrategy(Strategy):\n",
    "    def __init__(self, config):\n",
    "        super().__init__()\n",
    "        self.config = config\n",
    "        \n",
    "        print(self.config)\n",
    "\n",
    "    def compute_target(self, universe_list):\n",
    "        target_weight = { }\n",
    "        \n",
    "        input1 = self.config['input1']\n",
    "        input2 = self.config['input2']\n",
    "        unary = self.config['unary']\n",
    "        binary = self.config['binary']\n",
    "        \n",
    "        factor_series_1 = self.compute_factor_series(universe_list, input1, type=unary)\n",
    "        factor_series_2 = self.compute_factor_series(universe_list, input2, type=unary)\n",
    "        \n",
    "        if binary == 'add':\n",
    "            factor_series = factor_series_1 + factor_series_2\n",
    "        elif binary == 'sub':\n",
    "            factor_series = factor_series_1 - factor_series_2\n",
    "        elif binary == 'mul':\n",
    "            factor_series = factor_series_1 * factor_series_2\n",
    "        elif binary == 'div':\n",
    "            factor_series = factor_series_1 / factor_series_2\n",
    "            \n",
    "        \n",
    "        factor_series = factor_series.dropna().sort_values(ascending=False)\n",
    "        \n",
    "        assert len(factor_series) > 0.5*len(universe_list)\n",
    "        \n",
    "        top = int(len(factor_series.index)/5)\n",
    "        \n",
    "        for ticker in factor_series.index[:top]:\n",
    "            target_weight[ticker] = 1\n",
    "            \n",
    "        target_weight = self.normalize(target_weight)\n",
    "        return target_weight\n",
    "\n",
    "    def custom_factor(self, ticker, ftype):\n",
    "        if ftype == 'marketcap':\n",
    "            return self.get_value('metric',ticker,'marketcap')\n",
    "        else:\n",
    "            return self.get_value('fundamentals',ticker,ftype)\n",
    "\n"
   ]
  },
  {
   "cell_type": "code",
   "execution_count": 25,
   "metadata": {},
   "outputs": [
    {
     "name": "stdout",
     "output_type": "stream",
     "text": [
      "{'input1': 'price', 'input2': 'ncf', 'unary1': 'zscore', 'unary2': 'raw', 'binary': 'add'}\n",
      "Backtest period: 2016-01-04 00:00:00 -- 2021-08-31 00:00:00\n",
      "=== date:2021-08-31 00:00:00 / total_asset:2.234 / time elapsed:70.5 ===\n",
      "[run_backtest] is executed in 70.97 seconds\n",
      "{'cagr': 0.14225138940150142, 'vol': 0.1974893397577963, 'sharpe': 0.7202990782994187}\n",
      "{'input1': 'evebitda', 'input2': 'consolinc', 'unary1': 'rank', 'unary2': 'zscore', 'binary': 'div'}\n",
      "Backtest period: 2016-01-04 00:00:00 -- 2021-08-31 00:00:00\n",
      "=== date:2021-08-31 00:00:00 / total_asset:2.654 / time elapsed:70.3 ===\n",
      "[run_backtest] is executed in 70.73 seconds\n",
      "{'cagr': 0.17212315723729116, 'vol': 0.19489523223517705, 'sharpe': 0.8831573520977303}\n",
      "{'input1': 'investments', 'input2': 'shareswadil', 'unary1': 'rank', 'unary2': 'zscore', 'binary': 'sub'}\n",
      "Backtest period: 2016-01-04 00:00:00 -- 2021-08-31 00:00:00\n",
      "=== date:2021-08-31 00:00:00 / total_asset:2.361 / time elapsed:64.3 ===\n",
      "[run_backtest] is executed in 64.63 seconds\n",
      "{'cagr': 0.1516248025491646, 'vol': 0.18475921755761823, 'sharpe': 0.8206616403421364}\n"
     ]
    }
   ],
   "source": [
    "input_list = list(engine.cache['fundamentals']['AAPL'].columns[5:])\n",
    "unary_list = ['raw', 'rank', 'zscore']\n",
    "binary_list = ['add', 'sub', 'mul', 'div']\n",
    "\n",
    "results = []\n",
    "\n",
    "idx = 0\n",
    "while idx < 3:\n",
    "    x1, x2 = random.sample(input_list,2)\n",
    "    unary = random.sample(unary_list,1)[0]\n",
    "    binary = random.sample(binary_list,1)[0]\n",
    "    \n",
    "    config = {\n",
    "    'input1':x1,\n",
    "    'input2':x2,\n",
    "    'unary':unary,\n",
    "    'binary':binary}\n",
    "    print('\\n')\n",
    "    mys = myStrategy(config)\n",
    "    try:\n",
    "        engine.run_backtest(mys, '2016-01-01','2021-08-31',period='Q')\n",
    "        engine.stat(bench=None)\n",
    "        print(engine.stat_dic)\n",
    "\n",
    "        results.append([engine.stat_dic['sharpe'],engine.stat_dic['cagr'],config])\n",
    "        idx += 1\n",
    "    except:\n",
    "        print('Passed!')\n"
   ]
  },
  {
   "cell_type": "code",
   "execution_count": 26,
   "metadata": {},
   "outputs": [
    {
     "data": {
      "text/plain": [
       "[0.7202990782994187,\n",
       " 0.14225138940150142,\n",
       " {'input1': 'price',\n",
       "  'input2': 'ncf',\n",
       "  'unary1': 'zscore',\n",
       "  'unary2': 'raw',\n",
       "  'binary': 'add'},\n",
       " 0.8831573520977303,\n",
       " 0.17212315723729116,\n",
       " {'input1': 'evebitda',\n",
       "  'input2': 'consolinc',\n",
       "  'unary1': 'rank',\n",
       "  'unary2': 'zscore',\n",
       "  'binary': 'div'},\n",
       " 0.8206616403421364,\n",
       " 0.1516248025491646,\n",
       " {'input1': 'investments',\n",
       "  'input2': 'shareswadil',\n",
       "  'unary1': 'rank',\n",
       "  'unary2': 'zscore',\n",
       "  'binary': 'sub'}]"
      ]
     },
     "execution_count": 26,
     "metadata": {},
     "output_type": "execute_result"
    }
   ],
   "source": [
    "results.sort(key lambda )"
   ]
  },
  {
   "cell_type": "code",
   "execution_count": null,
   "metadata": {},
   "outputs": [],
   "source": []
  },
  {
   "cell_type": "code",
   "execution_count": null,
   "metadata": {},
   "outputs": [],
   "source": []
  },
  {
   "cell_type": "code",
   "execution_count": null,
   "metadata": {},
   "outputs": [],
   "source": []
  },
  {
   "cell_type": "code",
   "execution_count": null,
   "metadata": {},
   "outputs": [],
   "source": []
  }
 ],
 "metadata": {
  "kernelspec": {
   "display_name": "Python 3",
   "language": "python",
   "name": "python3"
  },
  "language_info": {
   "codemirror_mode": {
    "name": "ipython",
    "version": 3
   },
   "file_extension": ".py",
   "mimetype": "text/x-python",
   "name": "python",
   "nbconvert_exporter": "python",
   "pygments_lexer": "ipython3",
   "version": "3.8.5"
  }
 },
 "nbformat": 4,
 "nbformat_minor": 4
}
